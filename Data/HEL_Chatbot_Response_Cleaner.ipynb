{
  "nbformat": 4,
  "nbformat_minor": 0,
  "metadata": {
    "colab": {
      "provenance": []
    },
    "kernelspec": {
      "name": "python3",
      "display_name": "Python 3"
    },
    "language_info": {
      "name": "python"
    }
  },
  "cells": [
    {
      "cell_type": "code",
      "execution_count": 1,
      "metadata": {
        "id": "jz6-m2vtrfVZ"
      },
      "outputs": [],
      "source": [
        "import pandas as pd\n",
        "import re\n",
        "from datetime import datetime\n",
        "\n",
        "class ChatbotResponseCleaner:\n",
        "    def __init__(self, df):\n",
        "        self.df = df\n",
        "        self.current_year = datetime.now().year\n",
        "\n",
        "    def clean_dates(self, text):\n",
        "        # Replace relative dates with actual dates\n",
        "        text = re.sub(r'last year', str(self.current_year - 1), text, flags=re.IGNORECASE)\n",
        "        text = re.sub(r'this year', str(self.current_year), text, flags=re.IGNORECASE)\n",
        "        text = re.sub(r'next year', str(self.current_year + 1), text, flags=re.IGNORECASE)\n",
        "        text = re.sub(r'(?i)today', datetime.now().strftime('%Y-%m-%d'), text)\n",
        "        text = re.sub(r'(?i)yesterday', (datetime.now() - pd.Timedelta(days=1)).strftime('%Y-%m-%d'), text)\n",
        "        return text\n",
        "\n",
        "    def clean_text(self, text):\n",
        "        # Normalize abbreviations and shorthand\n",
        "        text = re.sub(r'\\bASAP\\b', 'as soon as possible', text, flags=re.IGNORECASE)\n",
        "        text = re.sub(r'\\byep\\b', 'yes', text, flags=re.IGNORECASE)\n",
        "        text = re.sub(r'\\bnope\\b', 'no', text, flags=re.IGNORECASE)\n",
        "        text = re.sub(r'\\bN/A\\b', 'No Response', text, flags=re.IGNORECASE)\n",
        "        text = text.strip()\n",
        "        return text\n",
        "\n",
        "    def clean_field_names(self):\n",
        "        # Split concatenated field names and standardize format\n",
        "        self.df['Field Name'] = self.df['Field Name'].astype(str).apply(lambda x: ', '.join(x.split(',')) if pd.notnull(x) else '')\n",
        "\n",
        "    def drop_empty_columns(self):\n",
        "        # Drop unnamed or completely empty columns\n",
        "        self.df = self.df.dropna(axis=1, how='all')\n",
        "\n",
        "    def remove_duplicates(self):\n",
        "        # Drop duplicate question-answer pairs\n",
        "        self.df = self.df.drop_duplicates(subset=['Question', 'Answer'])\n",
        "\n",
        "    def clean_responses(self):\n",
        "        # Apply all cleaning steps\n",
        "        self.clean_field_names()\n",
        "        self.drop_empty_columns()\n",
        "        self.remove_duplicates()\n",
        "        self.df['Cleaned Answer'] = self.df['Answer'].astype(str).apply(self.clean_text).apply(self.clean_dates)\n",
        "        self.df['Cleaned Question'] = self.df['Question'].astype(str).apply(self.clean_text).apply(self.clean_dates)\n",
        "        return self.df\n",
        "\n",
        "# Example usage\n",
        "# cleaner = ChatbotResponseCleaner(data)\n",
        "# cleaned_df = cleaner.clean_responses()\n",
        "# cleaned_df.to_csv('cleaned_responses.csv', index=False)\n"
      ]
    }
  ]
}